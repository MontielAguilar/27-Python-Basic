{
 "cells": [
  {
   "cell_type": "markdown",
   "id": "6c517a31-6abf-4859-8c9f-5fac5dac5fa6",
   "metadata": {},
   "source": [
    "# Completa las celdas vacías implementando la funcionalidad pedida"
   ]
  },
  {
   "cell_type": "markdown",
   "id": "05a98513-322f-43f7-9542-d4b9969df69c",
   "metadata": {},
   "source": [
    "## 1) Escrible un código que imprima \"Hola Mundo\""
   ]
  },
  {
   "cell_type": "code",
   "execution_count": 190,
   "id": "e62bb91a-b35f-4dcd-96f4-b99b7b29de4d",
   "metadata": {},
   "outputs": [
    {
     "name": "stdout",
     "output_type": "stream",
     "text": [
      "Hola Mundo\n"
     ]
    }
   ],
   "source": [
    "print (\"Hola Mundo\")"
   ]
  },
  {
   "cell_type": "markdown",
   "id": "f83aa014-3eac-45c6-be28-7b0d85126712",
   "metadata": {},
   "source": [
    "## 2) Creación y uso de variables simples\n",
    "Crea una variable numérica con valor 10\n",
    "\n",
    "Crea una variable de tipo cadena de caracteres con valor \"abcd\"\n",
    "\n",
    "Imprime el valor y el tipo de cada una de ellas\n",
    "\n",
    "Imprime un string que sea resultado de unir ambas variables con una \"_\" de por medio, no olvides realizar los casting que sean necesarios para que la concatenación pueda funcionar, la salida tendría que quedar estilo \"10_abcd\"\n",
    "\n",
    "Luego elimina ambas variables"
   ]
  },
  {
   "cell_type": "code",
   "execution_count": 191,
   "id": "ce231f2b-877f-4da2-9f31-d9d2d6f2ed88",
   "metadata": {},
   "outputs": [
    {
     "name": "stdout",
     "output_type": "stream",
     "text": [
      "10_abcd\n"
     ]
    }
   ],
   "source": [
    "num = 10\n",
    "valor = \"abcd\"\n",
    "\n",
    "print (f\"{num}_{valor}\")"
   ]
  },
  {
   "cell_type": "code",
   "execution_count": 192,
   "id": "1721c0eb",
   "metadata": {},
   "outputs": [
    {
     "name": "stdout",
     "output_type": "stream",
     "text": [
      "10_abcd\n"
     ]
    }
   ],
   "source": [
    "resultado = str(num) + \"_\" + valor\n",
    "\n",
    "print (resultado)"
   ]
  },
  {
   "cell_type": "markdown",
   "id": "f25421da-ef26-47bb-94d3-b2f5ed6dedf5",
   "metadata": {},
   "source": [
    "## 3) Trabajando con números\n",
    "Crea dos variables, una llamanda num_1 con valor 5 y otra llamada num_2 con valor 10.5\n",
    "\n",
    "Calcula lo siguiente:\n",
    "\n",
    "((num_1 - num_2)**num_1)*12.5\n",
    "\n",
    "Almacena el resultado de la operación anterior en una variable llamada num_res\n",
    "\n",
    "Calcula el resultado de dividir el valor absoluto de num_res entre 12.22 y actualiza el valor de num_res con este nuevo resultado\n",
    "\n",
    "Redondea el número num_res a 2 cifras decimales\n",
    "\n",
    "Crea una nueva variable llamada num_res_int que contenga el suelo entero de valor actual de num_res"
   ]
  },
  {
   "cell_type": "code",
   "execution_count": 193,
   "id": "e833ee05-4d15-4f88-aa76-73f37c38b0a5",
   "metadata": {},
   "outputs": [
    {
     "name": "stdout",
     "output_type": "stream",
     "text": [
      " El resultado de la operación (5 -10.5) ** 5)*12 es: -62910.546875\n",
      "------------------\n",
      " El redondeo a decimales de -62910.546875 es: -62910.55\n",
      "------------------\n",
      " El suelo entero del valor de -62910.546875 es: -62911\n",
      "------------------\n"
     ]
    }
   ],
   "source": [
    "import math\n",
    "\n",
    "num_1 = 5\n",
    "num_2 = 10.5\n",
    "\n",
    "num_res = ((num_1 - num_2)**num_1)*12.5\n",
    "\n",
    "decimales = round(num_res,2)\n",
    "\n",
    "num_res_int = math.floor(num_res)\n",
    "\n",
    "print (f\" El resultado de la operación (5 -10.5) ** 5)*12 es: {num_res}\")\n",
    "print (\"------------------\")\n",
    "print (f\" El redondeo a decimales de {num_res} es: {decimales}\")\n",
    "print (\"------------------\")\n",
    "print (f\" El suelo entero del valor de {num_res} es: {num_res_int}\")\n",
    "print (\"------------------\")"
   ]
  },
  {
   "cell_type": "markdown",
   "id": "f868b72f-801c-4472-b89f-4124c1b9f3b0",
   "metadata": {},
   "source": [
    "## 4) Trabajando con strings"
   ]
  },
  {
   "cell_type": "markdown",
   "id": "db4604f2-e8ed-482b-9b82-ca031f384503",
   "metadata": {},
   "source": [
    "Crea una variable llamada string_1 que contenga el texto:\n",
    "\n",
    "<i>\"La astrofísica es el desarrollo y estudio de la física aplicada a la astronomía.<br>\n",
    "Estudia las estrellas, los planetas, las galaxias, los agujeros negros y demás objetos astronómicos como cuerpos de la física, incluyendo su composición, estructura y evolución. <br>\n",
    "La astrofísica emplea la física para explicar las propiedades y fenómenos de los cuerpos estelares a través de sus leyes, fórmulas y magnitudes.\"</I>\n",
    "\n",
    "Recuerda introducir el caracter especial correspondiente para que se respeten los saltos de línea especificados\n",
    "\n",
    "Luego haz lo siguiente:\n",
    "<li> Imprime el texto completo\n",
    "<li> Imprime la longitud del texto\n",
    "<li> Imprime los caracteres con índices del 1 al 6\n",
    "<li> Imprime los caracteres desde el 6 al final\n",
    "<li> Imprime si la secuencia de caracteres \"WAF\" se encuentra o no en el texto (True o False)\n",
    "<li> Imprime una versión del string con todos sus caracteres en minúscula"
   ]
  },
  {
   "cell_type": "code",
   "execution_count": 194,
   "id": "1061baf9-b723-4851-9991-5867f946e0b7",
   "metadata": {},
   "outputs": [
    {
     "name": "stdout",
     "output_type": "stream",
     "text": [
      "El texto es el siguiente: \n",
      "La astrofísica es el desarrollo y estudio de la física aplicada a la astronomía.\n",
      "Estudia las estrellas, los planetas, las galaxias, los agujeros negros y demás objetos astronómicos como cuerpos de la física, incluyendo su composición, estructura y evolución.\n",
      "La astrofísica emplea la física para explicar las propiedades y fenómenos de los cuerpos estelares a través de sus leyes, fórmulas y magnitudes.\n",
      "------------------\n",
      " la longitud del texto es: 403\n",
      "------------------\n",
      "Los caracteres 1 a 6 son: a astr\n",
      "------------------\n",
      "Los caracteres del 6 hasta el final son: \n",
      "rofísica es el desarrollo y estudio de la física aplicada a la astronomía.\n",
      "Estudia las estrellas, los planetas, las galaxias, los agujeros negros y demás objetos astronómicos como cuerpos de la física, incluyendo su composición, estructura y evolución.\n",
      "La astrofísica emplea la física para explicar las propiedades y fenómenos de los cuerpos estelares a través de sus leyes, fórmulas y magnitudes.\n",
      "------------------\n",
      "¿Está la secuencia WAF en el string?: False\n",
      "------------------\n",
      "la astrofísica es el desarrollo y estudio de la física aplicada a la astronomía.\n",
      "estudia las estrellas, los planetas, las galaxias, los agujeros negros y demás objetos astronómicos como cuerpos de la física, incluyendo su composición, estructura y evolución.\n",
      "la astrofísica emplea la física para explicar las propiedades y fenómenos de los cuerpos estelares a través de sus leyes, fórmulas y magnitudes.\n"
     ]
    }
   ],
   "source": [
    "#Imprime el texto completo\n",
    "string_1 = (\"La astrofísica es el desarrollo y estudio de la física aplicada a la astronomía.\\n\" \n",
    "\"Estudia las estrellas, los planetas, las galaxias, los agujeros negros y demás objetos astronómicos como cuerpos de la física, incluyendo su composición, estructura y evolución.\\n\"\n",
    "\"La astrofísica emplea la física para explicar las propiedades y fenómenos de los cuerpos estelares a través de sus leyes, fórmulas y magnitudes.\")\n",
    "\n",
    "#Imprime la longitud del texto\n",
    "length = len(string_1)\n",
    "#Imprime los caracteres con índices del 1 al 6\n",
    "caracter = string_1[1:7]\n",
    "#Imprime los caracteres desde el 6 al final\n",
    "caracter_fin = string_1[6:]\n",
    "#Imprime si la secuencia de caracteres \"WAF\" se encuentra o no en el texto (True o False)\n",
    "def comprobar ():\n",
    "    return \"WAF\" in string_1\n",
    "#Imprime una versión del string con todos sus caracteres en minúscula\n",
    "lowercases = string_1.lower()\n",
    "print (f\"El texto es el siguiente: \\n{string_1}\")\n",
    "print (\"------------------\")\n",
    "print (f\" la longitud del texto es: {length}\")\n",
    "print (\"------------------\")\n",
    "print (f\"Los caracteres 1 a 6 son: {caracter}\")\n",
    "print (\"------------------\")\n",
    "print (f\"Los caracteres del 6 hasta el final son: \\n{caracter_fin}\")\n",
    "print (\"------------------\")\n",
    "print (f\"¿Está la secuencia WAF en el string?: {comprobar()}\")\n",
    "print (\"------------------\")\n",
    "print (lowercases)"
   ]
  },
  {
   "cell_type": "markdown",
   "id": "f112a1fa-8b11-41cd-8746-f9c0ee4a6182",
   "metadata": {},
   "source": [
    "## 5) Trabajando con Booleanos\n",
    "Crea dos variables, una llamda var_1 con valor True y otra llamada var_2 con valor False\n",
    "\n",
    "¿Cuál es el resultado de hacer un \"and\" ente ambas?\n",
    "\n",
    "¿Cuál es el resultado de hacer un \"or\" ente ambas?\n",
    "\n",
    "¿Cuál es el resultado de hacer un \"not\" de var_2?"
   ]
  },
  {
   "cell_type": "code",
   "execution_count": 195,
   "id": "d47b756e-aa7f-4d08-9096-fa3ca9a7fe6c",
   "metadata": {},
   "outputs": [
    {
     "name": "stdout",
     "output_type": "stream",
     "text": [
      "¿Cuál es el resultado de hacer un 'and' ente ambas?: False\n",
      "------------------\n",
      "¿Cuál es el resultado de hacer un 'or' ente ambas?: True\n",
      "------------------\n",
      " Not es un operador unario, por ende, no es posible, pero... ¡Juguemos con el Código!\n",
      "         1: A ver si así... x == var_1: True\n",
      "         2: ¿Y así? var_1 and x: True\n",
      "         3: a ver... var_1 and not var_2: True\n",
      "         4: se me ha ido la olla! (var_1 or not var_2) and (var_2 or not var_1): False \n",
      "------------------\n"
     ]
    }
   ],
   "source": [
    "var_1 = True\n",
    "var_2 = False\n",
    "#¿Cuál es el resultado de hacer un \"and\" ente ambas?\n",
    "y = var_1 and var_2\n",
    "#¿Cuál es el resultado de hacer un \"or\" ente ambas?\n",
    "o = var_1 or var_2\n",
    "#¿Cuál es el resultado de hacer un \"not\" de var_2?\n",
    "jejeje = \"Buen intento!\"\n",
    "x = not var_2\n",
    "intentemoslo= x == var_1\n",
    "intentemos_otra = var_1 and x\n",
    "y_esta = var_1 and not var_2\n",
    "y_esta_locura = (var_1 or not var_2) and (var_2 or not var_1)\n",
    "print (f\"¿Cuál es el resultado de hacer un 'and' ente ambas?: {y}\")\n",
    "print (\"------------------\")\n",
    "print (f\"¿Cuál es el resultado de hacer un 'or' ente ambas?: {o}\")\n",
    "print (\"------------------\")\n",
    "print(f\" Not es un operador unario, por ende, no es posible, pero... ¡Juguemos con el Código!\\n \\\n",
    "        1: A ver si así... x == var_1: {intentemoslo}\\n \\\n",
    "        2: ¿Y así? var_1 and x: {intentemos_otra}\\n \\\n",
    "        3: a ver... var_1 and not var_2: {y_esta}\\n \\\n",
    "        4: se me ha ido la olla! (var_1 or not var_2) and (var_2 or not var_1): {y_esta_locura} \")\n",
    "print (\"------------------\")"
   ]
  },
  {
   "cell_type": "markdown",
   "id": "b97a2e67-3179-4606-9445-23fc071ce415",
   "metadata": {
    "tags": []
   },
   "source": [
    "## 6) Trabajando con listas\n",
    "Crea estas dos listas:\n",
    "\n",
    "<li>list_1 = [\"a\", \"b\", \"c\"]\n",
    "\n",
    "<li>list_2 = [1, 2, 3, 4]\n",
    "<br><br>\n",
    "\n",
    "Imprime el primer elemento de la lista list_1\n",
    "\n",
    "Imprime el tercer elemento comenzando por la derecha de list_2\n",
    "    \n",
    "Imprime el número que tenga el valor máximo en list_2\n",
    "    \n",
    "Crea una lista llamada list_cat que sea la concatenación de las dos listas\n",
    "    \n",
    "Añade a list_cat un nuevo elemento con valor 12.5\n",
    "    \n",
    "Imprime la longitud de list_cat   \n",
    "\n",
    "Remplaza el elemento número 3 de list_cat por el valor \"x\"\n",
    "    \n",
    "Elimina el item con índice 2 de list_cat\n",
    "    \n",
    "Crea una nueva variable que se llame list_1_sorted con la lista 1 ordenada"
   ]
  },
  {
   "cell_type": "code",
   "execution_count": 196,
   "id": "ea4c2abd-5c18-4e91-b878-6ac1e456040e",
   "metadata": {},
   "outputs": [
    {
     "name": "stdout",
     "output_type": "stream",
     "text": [
      "Imprime el primer elemento de la lista list_1\n",
      "Aqui esta:\n",
      "['b']\n",
      "------------------\n",
      "Imprime el tercer elemento comenzando por la derecha de list_2\n",
      "Aqui esta:\n",
      "2\n",
      "------------------\n",
      "Imprime el número que tenga el valor máximo en list_2\n",
      "Aqui esta:\n",
      "4\n",
      "------------------\n",
      "Crea una lista llamada list_cat que sea la concatenación de las dos listas\n",
      "Aqui esta:\n",
      "list_cat es la concatenación de ['a', 'b', 'c'] y [1, 2, 3, 4] y da como resultado: ['a', 'b', 'c', 1, 2, 3, 4] \n",
      "        Otra forma es crear una variable e imprimirla ['a', 'b', 'c', 1, 2, 3, 4]\n",
      "------------------\n",
      "Añade a list_cat un nuevo elemento con valor 12.5\n",
      "Aqui esta:\n",
      " vamos a añadirle a list_cat el nº 12.5: \n",
      "        ['a', 'b', 'c', 1, 2, 3, 4, 12]\n",
      "------------------\n",
      "Imprime la longitud de list_cat\n",
      "Aqui esta:\n",
      "list_cat mide: 8\n",
      "------------------\n",
      "Remplaza el elemento número 3 de list_cat por el valor 'x'\n",
      "Aqui esta:\n",
      " Ahora el elemento 3 de list_cat no es 'c', es:['a', 'b', 'x', 1, 2, 3, 4, 12]\n",
      "------------------\n",
      "IMPORTANTISISISISISISISIMO: \n",
      "        Se ha puesto aqui el apartado de la función len, para que al hacer pop, no de 7.\n",
      "        podria hacerse mediante una copia de la lista usando copy()\n",
      "        aclarado, seguimos!\n"
     ]
    }
   ],
   "source": [
    "list_1 = [\"a\", \"b\", \"c\"]\n",
    "list_2 = [1, 2, 3, 4]\n",
    "\n",
    "print(\"Imprime el primer elemento de la lista list_1\")\n",
    "print (\"Aqui esta:\")\n",
    "print (f\"{list_1[1:2]}\")\n",
    "print (\"------------------\")\n",
    "print(\"Imprime el tercer elemento comenzando por la derecha de list_2\")\n",
    "print (\"Aqui esta:\")\n",
    "print (f\"{list_2[-3]}\")\n",
    "print (\"------------------\")\n",
    "print(\"Imprime el número que tenga el valor máximo en list_2\")\n",
    "print (\"Aqui esta:\")\n",
    "print (max(list_2))\n",
    "print (\"------------------\")\n",
    "print(\"Crea una lista llamada list_cat que sea la concatenación de las dos listas\")\n",
    "print (\"Aqui esta:\")\n",
    "list_cat = list_1 +list_2\n",
    "print (f\"list_cat es la concatenación de {list_1} y {list_2} y da como resultado: {list_1 +list_2} \\n \\\n",
    "       Otra forma es crear una variable e imprimirla {list_cat}\")\n",
    "print (\"------------------\")\n",
    "print(\"Añade a list_cat un nuevo elemento con valor 12.5\")\n",
    "print (\"Aqui esta:\")\n",
    "list_cat.append(12)\n",
    "print (f\" vamos a añadirle a list_cat el nº 12.5: \\n \\\n",
    "       {list_cat}\")\n",
    "print (\"------------------\") \n",
    "print(\"Imprime la longitud de list_cat\")\n",
    "print (\"Aqui esta:\")\n",
    "print (f\"list_cat mide: {len(list_cat)}\")\n",
    "print (\"------------------\")\n",
    "# El codigo se truncaba: \n",
    "print(\"Remplaza el elemento número 3 de list_cat por el valor 'x'\")\n",
    "print (\"Aqui esta:\")\n",
    "list_cat[2] = 'x'\n",
    "print (f\" Ahora el elemento 3 de list_cat no es 'c', es:{list_cat}\")\n",
    "print (\"------------------\")\n",
    "print (\"IMPORTANTISISISISISISISIMO: \\n \\\n",
    "       Se ha puesto aqui el apartado de la función len, para que al hacer pop, no de 7.\\n \\\n",
    "       podria hacerse mediante una copia de la lista usando copy()\\n \\\n",
    "       aclarado, seguimos!\")\n"
   ]
  },
  {
   "cell_type": "code",
   "execution_count": 197,
   "id": "a6849476",
   "metadata": {},
   "outputs": [
    {
     "name": "stdout",
     "output_type": "stream",
     "text": [
      "Elimina el item con índice 2 de list_cat\n",
      "Aqui esta:\n",
      "Eliminado! ['a', 'b', 1, 2, 3, 4, 12]\n",
      "        ¿Quieres saber algo muy divertido? Si sigues arrancando el codigo, pop seguirá eliminando el index 2 y... \n",
      "        dará un futuro error: 'pop index out of range'!!\n",
      "------------------\n",
      "Crea una nueva variable que se llame list_1_sorted con la lista 1 ordenada\n",
      "Aqui esta:\n",
      "Ya que estamos... vamos a ordenar todo!:\n",
      "         list_1: ['a', 'b', 'c']\n",
      "         list_2: [1, 2, 3, 4]\n",
      "         list_cat: Olvidalo... son elementos diferentes, tendriamos que entra con lambdas y a tanto no llego!\n",
      "------------------\n"
     ]
    }
   ],
   "source": [
    "print(\"Elimina el item con índice 2 de list_cat\")\n",
    "print (\"Aqui esta:\")\n",
    "list_cat.pop(2)\n",
    "print (f\"Eliminado! {list_cat}\\n \\\n",
    "       ¿Quieres saber algo muy divertido? Si sigues arrancando el codigo, pop seguirá eliminando el index 2 y... \\n \\\n",
    "       dará un futuro error: 'pop index out of range'!!\")\n",
    "print (\"------------------\")  \n",
    "print(\"Crea una nueva variable que se llame list_1_sorted con la lista 1 ordenada\")\n",
    "print (\"Aqui esta:\")\n",
    "list_1_sorted = sorted(list_1)\n",
    "list_2_sorted = sorted(list_2)\n",
    "print (f\"Ya que estamos... vamos a ordenar todo!:\\n \\\n",
    "        list_1: {list_1_sorted}\\n \\\n",
    "        list_2: {list_2_sorted}\\n \\\n",
    "        list_cat: Olvidalo... son elementos diferentes, tendriamos que entra con lambdas y a tanto no llego!\")\n",
    "print (\"------------------\")"
   ]
  },
  {
   "cell_type": "markdown",
   "id": "f9fef494-7cb0-4164-9dd8-fc0b04d26f7d",
   "metadata": {},
   "source": [
    "## 6) Trabajando con tuplas\n",
    "\n",
    "Intenta hacer todos los pasos anteriores pero usando tuplas, algunos de ellos fallarán, explica brevemente por qué ocurre esto y cuál es la utilidad de este comportamiento."
   ]
  },
  {
   "cell_type": "code",
   "execution_count": 198,
   "id": "84db6b5b-ad13-4ae5-ac8b-82359447e3b0",
   "metadata": {},
   "outputs": [
    {
     "name": "stdout",
     "output_type": "stream",
     "text": [
      "Imprime el primer elemento de la tupla tuple_1\n",
      "Primer elemento de tuple_1: a\n",
      "------------------\n",
      "Imprime el tercer elemento comenzando por la derecha de tuple_2\n",
      "Tercer elemento desde la derecha de tuple_2: 2\n",
      "------------------\n",
      "Imprime el número que tenga el valor máximo en tuple_2\n",
      "Número con el valor máximo en tuple_2: 4\n",
      "------------------\n",
      "Crea una tupla llamada tuple_cat que sea la concatenación de las dos tuplas\n",
      "tuple_cat (concatenación de tuple_1 y tuple_2): ('a', 'b', 'c', 1, 2, 3, 4)\n",
      "------------------\n",
      "Añade a tuple_cat un nuevo elemento con valor 12.5\n",
      "------------------\n",
      "Longitud de tuple_cat: 7\n",
      "------------------\n",
      "Remplaza el elemento número 3 de tuple_cat por el valor 'x')\n",
      "------------------\n",
      " RECUERDA:\n",
      "        Las tuplas son inmutables, lo que significa que no se pueden modificar después de su creación.\n",
      "         Por lo tanto, las operaciones como añadir, reemplazar o eliminar elementos no son posibles en tuplas,\n",
      "         y se generan errores en esos casos.\n"
     ]
    }
   ],
   "source": [
    "tuple_1 = (\"a\", \"b\", \"c\")\n",
    "tuple_2 = (1, 2, 3, 4)\n",
    "\n",
    "print(\"Imprime el primer elemento de la tupla tuple_1\") \n",
    "print(\"Primer elemento de tuple_1:\", tuple_1[0])\n",
    "print (\"------------------\")\n",
    "print(\"Imprime el tercer elemento comenzando por la derecha de tuple_2\") \n",
    "print(\"Tercer elemento desde la derecha de tuple_2:\", tuple_2[-3])\n",
    "print (\"------------------\")\n",
    "print(\"Imprime el número que tenga el valor máximo en tuple_2\") \n",
    "print(\"Número con el valor máximo en tuple_2:\", max(tuple_2))\n",
    "print (\"------------------\")\n",
    "print(\"Crea una tupla llamada tuple_cat que sea la concatenación de las dos tuplas\") \n",
    "tuple_cat = tuple_1 + tuple_2\n",
    "print(\"tuple_cat (concatenación de tuple_1 y tuple_2):\", tuple_cat)\n",
    "print (\"------------------\")\n",
    "print(\"Añade a tuple_cat un nuevo elemento con valor 12.5\")  #(esto genera un error)\n",
    "# tuple_cat.append(12.5)\n",
    "print (\"------------------\")\n",
    "# Imprime la longitud de tuple_cat\") \n",
    "print(\"Longitud de tuple_cat:\", len(tuple_cat))\n",
    "print (\"------------------\")\n",
    "print(\"Remplaza el elemento número 3 de tuple_cat por el valor 'x')\") #(esto genera un error)\n",
    "# tuple_cat[2] = \"x\"\n",
    "\n",
    "# Elimina el item con índice 2 de tuple_cat (esto generará un error)\n",
    "# del tuple_cat[2]\n",
    "\n",
    "# Crea una nueva variable que se llame tuple_1_sorted con la tupla 1 ordenada (esto generará un error)\n",
    "# tuple_1_sorted = sorted(tuple_1)\n",
    "print (\"------------------\")\n",
    "print (\" RECUERDA:\\n \\\n",
    "       Las tuplas son inmutables, lo que significa que no se pueden modificar después de su creación.\\n \\\n",
    "        Por lo tanto, las operaciones como añadir, reemplazar o eliminar elementos no son posibles en tuplas,\\n \\\n",
    "        y se generan errores en esos casos.\")"
   ]
  },
  {
   "cell_type": "markdown",
   "id": "5155fb89-0213-4d4d-aa06-85b11009e5b9",
   "metadata": {},
   "source": [
    "## 7) Trabajando con diccionarios\n",
    "Crea un diccionario vacío y rellénalo con estos datos (entendiéndose como pares clave-valor):\n",
    "<li> \"58195348N\": \"Pepito Pérez\"\n",
    "<li> \"96173220P\": \"Juanito Martínez\"\n",
    "<li> \"43740289Q\": \"Adolfo Rodríguez\"\n",
    "<li> \"41588605M\": \"Roberto García\"\n",
    "<br><br>\n",
    "    \n",
    "Consulta el diccionario, ¿Cuál es el nombre de la persona con DNI \"96173220P\"?\n",
    "\n",
    "Cambia el nombre asociado a la clave \"41588605M\" por \"Roberto Martínez\"\n",
    "    \n",
    "Elimina la entrada correspondiente a la clave \"96173220P\"\n",
    "    \n",
    "Imprime la longitud del diccionario\n",
    "    \n",
    "Imprime si la clave \"99114051J\" está o no en el diccionario (True o False)\n",
    "    \n",
    "Imprime las claves del diccionario\n",
    "    \n",
    "Imprime los valores del diccionario\n",
    "    \n",
    "Haz una copia del diccionario en una nueva variable de manera que si modifico los valores en esta nueva variable no se modifique la original"
   ]
  },
  {
   "cell_type": "code",
   "execution_count": 199,
   "id": "d8fd64e4-b69a-4088-85a7-9b30b9b59f89",
   "metadata": {},
   "outputs": [
    {
     "name": "stdout",
     "output_type": "stream",
     "text": [
      "Consultar el nombre de la persona con DNI '96173220P'\n",
      "Juanito Martínez\n",
      "------------------\n",
      "Cambiar el nombre asociado a la clave \"41588605M\" por \"Roberto Martínez\"\n",
      "------------------\n",
      "Eliminar la entrada correspondiente a la clave \"96173220P\". \n",
      "        Se ha hecho usando del, pero puede usarse tambien pop\n",
      "------------------\n",
      "Imprimir la longitud del diccionario\n",
      "Longitud del diccionario: 3\n",
      "------------------\n",
      "Imprimir si la clave \"99114051J\" está o no en el diccionario (True o False)\n",
      "¿La clave '99114051J' está en el diccionario? False\n",
      "------------------\n",
      "Imprimir las claves del diccionario\n",
      "Claves del diccionario: ['58195348N', '43740289Q', '41588605M']\n",
      "------------------\n",
      "Imprimir los valores del diccionario\n",
      "Valores del diccionario: ['Pepito Pérez', 'Adolfo Rodríguez', 'Roberto Martínez']\n",
      "------------------\n",
      "Hacer una copia del diccionario en una nueva variable e imprimir el diccionario original y la copia\n",
      "Diccionario original: {'58195348N': 'Pepito Pérez', '43740289Q': 'Adolfo Rodríguez', '41588605M': 'Roberto Martínez'}\n",
      "Copia del diccionario: {'58195348N': 'Pepito Pérez', '43740289Q': 'Adolfo Rodríguez', '41588605M': 'Roberto Martínez'}\n"
     ]
    }
   ],
   "source": [
    "diccionario_personas = {\n",
    "    \"58195348N\": \"Pepito Pérez\",\n",
    "    \"96173220P\": \"Juanito Martínez\",\n",
    "    \"43740289Q\": \"Adolfo Rodríguez\",\n",
    "    \"41588605M\": \"Roberto García\"\n",
    "}\n",
    "\n",
    "print (\"Consultar el nombre de la persona con DNI '96173220P'\")\n",
    "print(diccionario_personas[\"96173220P\"])\n",
    "print (\"------------------\")\n",
    "print ('Cambiar el nombre asociado a la clave \"41588605M\" por \"Roberto Martínez\"')\n",
    "diccionario_personas[\"41588605M\"] = \"Roberto Martínez\"\n",
    "print (\"------------------\")\n",
    "print ('Eliminar la entrada correspondiente a la clave \"96173220P\". \\n \\\n",
    "       Se ha hecho usando del, pero puede usarse tambien pop')\n",
    "del diccionario_personas[\"96173220P\"]\n",
    "print (\"------------------\")\n",
    "print ('Imprimir la longitud del diccionario')\n",
    "print(\"Longitud del diccionario:\", len(diccionario_personas))\n",
    "print (\"------------------\")\n",
    "print ('Imprimir si la clave \"99114051J\" está o no en el diccionario (True o False)')\n",
    "print(\"¿La clave '99114051J' está en el diccionario?\", \"99114051J\" in diccionario_personas)\n",
    "print (\"------------------\")\n",
    "print ('Imprimir las claves del diccionario')\n",
    "print(\"Claves del diccionario:\", list(diccionario_personas.keys()))\n",
    "print (\"------------------\")\n",
    "print ('Imprimir los valores del diccionario')\n",
    "print(\"Valores del diccionario:\", list(diccionario_personas.values()))\n",
    "print (\"------------------\")\n",
    "print ('Hacer una copia del diccionario en una nueva variable e imprimir el diccionario original y la copia')\n",
    "diccionario_copia = diccionario_personas.copy()\n",
    "print(\"Diccionario original:\", diccionario_personas)\n",
    "print(\"Copia del diccionario:\", diccionario_copia)\n"
   ]
  },
  {
   "cell_type": "markdown",
   "id": "2c71d523-7b35-429c-8ae0-fc136e3ea353",
   "metadata": {},
   "source": [
    "## 8) Trabajando con conjuntos\n",
    "Crea una lista con los siguientes valores\n",
    "<li>[1,2,2,2,3,2,3,5,1]\n",
    "<br><br>\n",
    "\n",
    "Convierte esta lista a otra lista que no contenga elementos repetidos\n",
    "\n",
    "Crea los dos siguientes conjuntos:\n",
    "<li>conj_1 = {1,2,3,4,5}\n",
    "<li>conj_2 = {3,4,5,6,7}\n",
    "<br><br>\n",
    "    \n",
    "Comprueba si el elemento 10 está en el conjunto 1\n",
    "\n",
    "¿Son conjuntos disjuntos?\n",
    "\n",
    "¿Es conj_1 un subconjunto de conj_2?\n",
    "    \n",
    "Calcula los elementos que estén en conj_1 pero no en conj_2\n",
    "    \n",
    "Calcula los elementos comunes a ambos conjuntos"
   ]
  },
  {
   "cell_type": "code",
   "execution_count": 200,
   "id": "992c7201-dcc2-4060-bae1-df69714ee1ca",
   "metadata": {},
   "outputs": [
    {
     "name": "stdout",
     "output_type": "stream",
     "text": [
      "Lista original: [1, 2, 2, 2, 3, 2, 3, 5, 1]\n",
      "Lista sin elementos repetidos: [1, 2, 3, 5]\n",
      "------------------\n",
      "Comprobar si el elemento 10 está en el conjunto 1\n",
      "¿El elemento 10 está en el conjunto 1? False\n",
      "------------------\n",
      "Verificar si los conjuntos son disjuntos\n",
      "¿Son conjuntos disjuntos? False\n",
      "------------------\n",
      "Comprobar si conj_1 es un subconjunto de conj_2\n",
      "¿conj_1 es un subconjunto de conj_2? False\n",
      "------------------\n",
      "Calcular los elementos en conj_1 pero no en conj_2\n",
      "Elementos en conj_1 pero no en conj_2: {1, 2}\n",
      "------------------\n",
      "Calcular los elementos comunes a ambos conjuntos\n",
      "Elementos comunes a conj_1 y conj_2: {3, 4, 5}\n"
     ]
    }
   ],
   "source": [
    "#Lista original con elementos repetido\n",
    "lista_original = [1, 2, 2, 2, 3, 2, 3, 5, 1]\n",
    "\n",
    "#Convertir la lista a otra lista sin elementos repetidos\n",
    "lista_sin_repetir = list(set(lista_original))\n",
    "\n",
    "print(\"Lista original:\", lista_original)\n",
    "print(\"Lista sin elementos repetidos:\", lista_sin_repetir)\n",
    "print(\"------------------\")\n",
    "\n",
    "# Conjuntos dados\n",
    "conj_1 = {1, 2, 3, 4, 5}\n",
    "conj_2 = {3, 4, 5, 6, 7}\n",
    "\n",
    "print ('Comprobar si el elemento 10 está en el conjunto 1')\n",
    "print(\"¿El elemento 10 está en el conjunto 1?\", 10 in conj_1)\n",
    "print(\"------------------\")\n",
    "\n",
    "print ('Verificar si los conjuntos son disjuntos')\n",
    "son_disjuntos = conj_1.isdisjoint(conj_2)\n",
    "print(\"¿Son conjuntos disjuntos?\", son_disjuntos)\n",
    "print(\"------------------\")\n",
    "\n",
    "print ('Comprobar si conj_1 es un subconjunto de conj_2')\n",
    "es_subconjunto = conj_1.issubset(conj_2)\n",
    "print(\"¿conj_1 es un subconjunto de conj_2?\", es_subconjunto)\n",
    "print(\"------------------\")\n",
    "\n",
    "print ('Calcular los elementos en conj_1 pero no en conj_2')\n",
    "diferencia_conjuntos = conj_1.difference(conj_2)\n",
    "print(\"Elementos en conj_1 pero no en conj_2:\", diferencia_conjuntos)\n",
    "print(\"------------------\")\n",
    "\n",
    "print ('Calcular los elementos comunes a ambos conjuntos')\n",
    "interseccion_conjuntos = conj_1.intersection(conj_2)\n",
    "print(\"Elementos comunes a conj_1 y conj_2:\", interseccion_conjuntos)\n",
    "\n",
    "#Como recordatorio:\n",
    "#En Python, un set es un tipo de colección que representa un conjunto de elementos únicos y no ordenados"
   ]
  },
  {
   "cell_type": "markdown",
   "id": "409ba1ac-5191-461e-8509-68a2373f5922",
   "metadata": {},
   "source": [
    "## 9) Trabajando con if, if-else, if-elif\n",
    "Tenemos dos variables, les asignamos inicialmente estos valores:\n",
    "<li>var_1 = [0, 1]\n",
    "<li>var_2 = [0,1,2,3,4,5]\n",
    "<br><br>\n",
    "\n",
    "Implementar la siguiente lógica:\n",
    "<li>Si la longitud de var_1 es mayor que la de var_2 imprimimos \"var_1 tiene longitud mayor que var_2\"\n",
    "<li>Si la condición anterior no se cumple y la longitud de var_1 es igual que la de var_2 imprimimos \"var_1 tiene longitud igual que var_2\"\n",
    "<li> Si la condición anterior no se cumple y si el elemento en el índice 0 de var_1 es igual al elemento del índice 0 de var_2 imprimimos \"Ambas listas comienzan por el mismo valor\"\n",
    "<li>Si no se cumple nada de lo anterior imprimimos \"No se cumple ninguna de las condiciones\"\n",
    "<br><br>\n",
    "<li> Si el elemento en el índice 0 de var_1 es igual al elemento del índice 0 de var_2 y el elemento en el índice 1 de var_1 es igual al elemento del índice 1 de var_2 imprimimos \"Ambas listas comienzan por los dos mismos valores\"\n",
    "<li> Si la condición anterior no se cumple, imprimimos: \"Al menos uno de los dos primero valores de ambas listas son diferentes\"\n",
    "<br><br>"
   ]
  },
  {
   "cell_type": "code",
   "execution_count": 201,
   "id": "1663b871-b7b5-4894-906b-fab2fc78b3dc",
   "metadata": {},
   "outputs": [
    {
     "name": "stdout",
     "output_type": "stream",
     "text": [
      "Ambas listas comienzan por el mismo valor\n"
     ]
    }
   ],
   "source": [
    "var_1 = [0, 1]\n",
    "var_2 = [0,1,2,3,4,5]\n",
    "# Si la longitud de var_1 es mayor que la de var_2 imprimimos \"var_1 tiene longitud mayor que var_2\"\n",
    "if var_1 > var_2:\n",
    "    print(\"var_1 tiene longitud mayor que var_2\")\n",
    "\n",
    "# Si la condición anterior no se cumple y la longitud de var_1 es igual que la de var_2 imprimimos \"var_1 tiene longitud igual que var_2\"\n",
    "elif var_1 == var_2:\n",
    "    print(\"var_1 tiene longitud igual que var_2\")\n",
    "\n",
    "# Si la condición anterior no se cumple y si el elemento en el índice 0 de var_1 es igual al elemento del índice 0 de var_2 imprimimos \"Ambas listas comienzan por el mismo valor\"\n",
    "elif var_1[0] == var_2[0]:\n",
    "    print(\"Ambas listas comienzan por el mismo valor\")\n",
    "\n",
    "# Si no se cumple nada de lo anterior imprimimos \"No se cumple ninguna de las condiciones\"\n",
    "else:\n",
    "    print(\"No se cumple ninguna de las condiciones\")\n"
   ]
  },
  {
   "cell_type": "code",
   "execution_count": 202,
   "id": "e58e99a5",
   "metadata": {},
   "outputs": [
    {
     "name": "stdout",
     "output_type": "stream",
     "text": [
      "Ambas listas comienzan por los dos mismos valores\n"
     ]
    }
   ],
   "source": [
    "# Si el elemento en el índice 0 de var_1 es igual al elemento del índice 0 de var_2 y el elemento en el índice 1 de var_1 es igual al elemento del índice 1 de var_2 imprimimos \"Ambas listas comienzan por los dos mismos valores\"\n",
    "if var_1[0] == var_2[0] and var_1[1] == var_2[1]:\n",
    "    print(\"Ambas listas comienzan por los dos mismos valores\")\n",
    "\n",
    "# Si la condición anterior no se cumple, imprimimos: \"Al menos uno de los dos primeros valores de ambas listas es diferente\"\n",
    "else:\n",
    "    print(\"Al menos uno de los dos primeros valores de ambas listas es diferente\")"
   ]
  },
  {
   "cell_type": "markdown",
   "id": "1bb0bc9c-495b-4026-afcd-57e64c1a16f7",
   "metadata": {},
   "source": [
    "## 10) Trabajando con for y while\n",
    "\n",
    "Tenemos las siguientes listas:\n",
    "<li>char_list = [\"a\", \"b\", \"c\", \"d\"]\n",
    "<li>num_list = [1, 2, 3, 4]\n",
    "<br><br>\n",
    "\n",
    "Realizar un bucle for que recorra num_list e imprima sus valores y además el caracter que se encuentra en la misma posición en char_list"
   ]
  },
  {
   "cell_type": "code",
   "execution_count": 203,
   "id": "f1f73546-1f88-4532-a76e-b8ae89cc31b3",
   "metadata": {},
   "outputs": [
    {
     "name": "stdout",
     "output_type": "stream",
     "text": [
      "Número: 1, Carácter: a\n",
      "Número: 2, Carácter: b\n",
      "Número: 3, Carácter: c\n",
      "Número: 4, Carácter: d\n"
     ]
    }
   ],
   "source": [
    "char_list = [\"a\", \"b\", \"c\", \"d\"]\n",
    "num_list = [1, 2, 3, 4]\n",
    "\n",
    "\n",
    "for num, char in zip(num_list, char_list):\n",
    "    print(f\"Número: {num}, Carácter: {char}\")"
   ]
  },
  {
   "cell_type": "markdown",
   "id": "44a32335-c5a7-4205-8509-faf493c60b51",
   "metadata": {},
   "source": [
    "Crear un bucle while que mientras el máximo valor de num_list sea menor a 10 siga iterando, pero que en cada iteración añada un elemento a la lista cuyo valor sea una unidad mayor al valor máximo que haya en ese momento en num_list. Por ejemplo, el primer valor que se añadiría sería 5, el siguiente 6 y así sucesivamente:"
   ]
  },
  {
   "cell_type": "code",
   "execution_count": 204,
   "id": "d8b51e59-da2f-463a-8306-85b0216701af",
   "metadata": {},
   "outputs": [
    {
     "name": "stdout",
     "output_type": "stream",
     "text": [
      "[1, 2, 3, 4, 5, 6, 7, 8, 9, 10]\n"
     ]
    }
   ],
   "source": [
    "num_list = [1, 2, 3, 4]\n",
    "\n",
    "while max (num_list) <10:\n",
    "    x = max(num_list) + 1\n",
    "    num_list.append(x)\n",
    "print (num_list)\n"
   ]
  }
 ],
 "metadata": {
  "kernelspec": {
   "display_name": "Python 3 (ipykernel)",
   "language": "python",
   "name": "python3"
  },
  "language_info": {
   "codemirror_mode": {
    "name": "ipython",
    "version": 3
   },
   "file_extension": ".py",
   "mimetype": "text/x-python",
   "name": "python",
   "nbconvert_exporter": "python",
   "pygments_lexer": "ipython3",
   "version": "3.11.3"
  }
 },
 "nbformat": 4,
 "nbformat_minor": 5
}
